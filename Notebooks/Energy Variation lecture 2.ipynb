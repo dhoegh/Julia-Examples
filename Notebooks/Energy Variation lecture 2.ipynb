{
 "cells": [
  {
   "cell_type": "code",
   "execution_count": 1,
   "metadata": {
    "collapsed": false
   },
   "outputs": [],
   "source": [
    "#Pkg.add(\"SymPy\") # Run this line the first time to install the SymPy package\n",
	"using SymPy"
   ]
  },
  {
   "cell_type": "markdown",
   "metadata": {
    "collapsed": true
   },
   "source": [
    "# Ex 1"
   ]
  },
  {
   "cell_type": "markdown",
   "metadata": {},
   "source": [
    "<img  src=\"LJLJOJDU901QSOBHXLVH8BMNUF7O209G.png\"/>"
   ]
  },
  {
   "cell_type": "markdown",
   "metadata": {},
   "source": [
    "$$U_S(x) = \\int \\frac{M(x)}{2EI} dx$$"
   ]
  },
  {
   "cell_type": "code",
   "execution_count": 2,
   "metadata": {
    "collapsed": false,
    "run_control": {
     "marked": false
    }
   },
   "outputs": [
    {
     "data": {
      "text/plain": [
       "M2 (generic function with 1 method)"
      ]
     },
     "execution_count": 2,
     "metadata": {},
     "output_type": "execute_result"
    }
   ],
   "source": [
    "@syms x, q, R1, R2, l, i, E\n",
    "M1(x) = R1*x-(q*x^(2))/(2)\n",
    "M2(x) = R1*x+R2*(x-l/(2))-(q*x^(2))/(2)"
   ]
  },
  {
   "cell_type": "markdown",
   "metadata": {},
   "source": [
    "Using Castigliano's second theorem, that states \n",
    "$$\\frac{\\partial U}{\\partial Q_i}=q_i$$\n",
    "\n",
    "Where $Q_i$ is genneralized forces and $q_i$ is genneralized displacements.\n",
    "Since there is no deflection in the two supports then the differentiated with repect to the reaction force set to zero\n"
   ]
  },
  {
   "cell_type": "code",
   "execution_count": 3,
   "metadata": {
    "collapsed": false
   },
   "outputs": [
    {
     "data": {
      "text/latex": [
       "$$\\frac{R_{1}^{2} l^{3}}{48 e i} - \\frac{R_{1} l^{4} q}{128 e i} + \\frac{R_{2}^{2} l^{3}}{16 e i} + \\frac{l^{5} q^{2}}{40 e i} - \\frac{15 l^{4}}{128 e i} \\left(R_{1} q + R_{2} q\\right) + \\frac{7 l^{3}}{96 e i} \\left(2 R_{1}^{2} + 4 R_{1} R_{2} + 2 R_{2}^{2} + R_{2} l q\\right) - \\frac{3 l^{2}}{16 e i} \\left(R_{1} R_{2} l + R_{2}^{2} l\\right)$$"
      ],
      "text/plain": [
       "  2  3  -1       4    -1     2  3  -1    5  2  -1       4                -1   \n",
       "R1 *l *e     R1*l *q*e     R2 *l *e     l *q *e     15*l *(R1*q + R2*q)*e     \n",
       "---------- - ----------- + ---------- + --------- - ----------------------- + \n",
       "   48*i         128*i         16*i         40*i              128*i            \n",
       "\n",
       "   3 /    2                 2         \\  -1      2 /            2  \\  -1\n",
       "7*l *\\2*R1  + 4*R1*R2 + 2*R2  + R2*l*q/*e     3*l *\\R1*R2*l + R2 *l/*e  \n",
       "------------------------------------------- - --------------------------\n",
       "                    96*i                                 16*i           "
      ]
     },
     "execution_count": 3,
     "metadata": {},
     "output_type": "execute_result"
    }
   ],
   "source": [
    "U = integrate(M1(x)^2/(2*E*i),x,0,l/2) + integrate(M2(x)^2/(2*E*i),x,l/2,l)"
   ]
  },
  {
   "cell_type": "code",
   "execution_count": 4,
   "metadata": {
    "collapsed": false
   },
   "outputs": [
    {
     "data": {
      "text/latex": [
       "$$\\frac{R_{1} l^{3}}{24 e i} - \\frac{3 R_{2} l^{3}}{16 e i} - \\frac{l^{4} q}{8 e i} + \\frac{7 l^{3}}{96 e i} \\left(4 R_{1} + 4 R_{2}\\right)$$"
      ],
      "text/plain": [
       "    3  -1         3  -1    4    -1      3                -1\n",
       "R1*l *e     3*R2*l *e     l *q*e     7*l *(4*R1 + 4*R2)*e  \n",
       "--------- - ----------- - -------- + ----------------------\n",
       "   24*i         16*i        8*i               96*i         "
      ]
     },
     "execution_count": 4,
     "metadata": {},
     "output_type": "execute_result"
    }
   ],
   "source": [
    "eq1 = diff(U,R1)"
   ]
  },
  {
   "cell_type": "code",
   "execution_count": 5,
   "metadata": {
    "collapsed": false
   },
   "outputs": [
    {
     "data": {
      "text/latex": [
       "$$\\frac{R_{2} l^{3}}{8 e i} - \\frac{15 l^{4} q}{128 e i} + \\frac{7 l^{3}}{96 e i} \\left(4 R_{1} + 4 R_{2} + l q\\right) - \\frac{3 l^{2}}{16 e i} \\left(R_{1} l + 2 R_{2} l\\right)$$"
      ],
      "text/plain": [
       "    3  -1       4    -1      3                      -1      2                 \n",
       "R2*l *e     15*l *q*e     7*l *(4*R1 + 4*R2 + l*q)*e     3*l *(R1*l + 2*R2*l)*\n",
       "--------- - ----------- + ---------------------------- - ---------------------\n",
       "   8*i         128*i                  96*i                         16*i       \n",
       "\n",
       " -1\n",
       "e  \n",
       "---\n",
       "   "
      ]
     },
     "execution_count": 5,
     "metadata": {},
     "output_type": "execute_result"
    }
   ],
   "source": [
    "eq2= diff(U,R2)"
   ]
  },
  {
   "cell_type": "code",
   "execution_count": 6,
   "metadata": {
    "collapsed": false,
    "run_control": {
     "marked": false
    }
   },
   "outputs": [
    {
     "data": {
      "text/latex": [
       "\\begin{equation*}\\begin{cases}R_{1} & \\text{=>} &\\frac{11 l}{56} q\\\\R_{2} & \\text{=>} &\\frac{4 l}{7} q\\\\\\end{cases}\\end{equation*}"
      ],
      "text/plain": [
       "Dict{SymPy.Sym,SymPy.Sym} with 2 entries:\n",
       "  R1 => 11*l*q/56\n",
       "  R2 => 4*l*q/7"
      ]
     },
     "execution_count": 6,
     "metadata": {},
     "output_type": "execute_result"
    }
   ],
   "source": [
    "solve([eq1,eq2], [R1, R2])"
   ]
  },
  {
   "cell_type": "markdown",
   "metadata": {},
   "source": [
    "Super, return the same as maple"
   ]
  },
  {
   "cell_type": "markdown",
   "metadata": {},
   "source": [
    "# ex2"
   ]
  },
  {
   "cell_type": "markdown",
   "metadata": {},
   "source": [
    "<img  src=\"TDGCDB9U51C437GJU7WQWEV6FDFL7X1T.png\"/>"
   ]
  },
  {
   "cell_type": "markdown",
   "metadata": {},
   "source": [
    "Since we would like to find the displacement in point A, we call it P1 and then later apply the relation between P and P1"
   ]
  },
  {
   "cell_type": "code",
   "execution_count": 7,
   "metadata": {
    "collapsed": false
   },
   "outputs": [
    {
     "data": {
      "text/latex": [
       "$$\\frac{P^{2} l^{3}}{12 e i} + \\frac{l^{3}}{48 e i} \\left(4 P^{2} - 4 P P_{1} + P_{1}^{2}\\right) - \\frac{0.25 l^{2}}{e i} \\left(2.0 P^{2} l - 1.5 P P_{1} l + 0.25 P_{1}^{2} l\\right) + \\frac{0.5 l}{e i} \\left(2.0 P^{2} l^{2} - 1.0 P P_{1} l^{2} + 0.125 P_{1}^{2} l^{2}\\right)$$"
      ],
      "text/plain": [
       " 2  3  -1    3 /   2              2\\  -1            2 /     2                 \n",
       "P *l *e     l *\\4*P  - 4*P*P1 + P1 /*e     - -0.25*l *\\2.0*P *l - -1.5*(-1)*P*\n",
       "--------- + ---------------------------- - -----------------------------------\n",
       "   12*i                 48*i                                           i      \n",
       "\n",
       "              2  \\  -1          /     2  2                2           2  2\\  -\n",
       "P1*l + 0.25*P1 *l/*e      0.5*l*\\2.0*P *l  - - -1.0*P*P1*l  + 0.125*P1 *l /*e \n",
       "----------------------- + ----------------------------------------------------\n",
       "                                                    i                         \n",
       "\n",
       "1\n",
       " \n",
       "-\n",
       " "
      ]
     },
     "execution_count": 7,
     "metadata": {},
     "output_type": "execute_result"
    }
   ],
   "source": [
    "@syms x, q, P, P1, l, i, E\n",
    "M1(x) = ((l-x)*2)*P\n",
    "M2(x) = ((l-x)*2)*P-P1*((1/2)*l-x)\n",
    "\n",
    "U = integrate(M2(x)^2/(2*E*i),x,0,l/2) + integrate(M1(x)^2/(2*E*i),x,l/2,l)"
   ]
  },
  {
   "cell_type": "markdown",
   "metadata": {},
   "source": [
    "differentiating with respect to P1"
   ]
  },
  {
   "cell_type": "code",
   "execution_count": 8,
   "metadata": {
    "collapsed": false
   },
   "outputs": [
    {
     "data": {
      "text/latex": [
       "$$\\frac{l^{3}}{48 e i} \\left(- 4 P + 2 P_{1}\\right) - \\frac{0.25 l^{2}}{e i} \\left(- 1.5 P l + 0.5 P_{1} l\\right) + \\frac{0.5 l}{e i} \\left(- 1.0 P l^{2} + 0.25 P_{1} l^{2}\\right)$$"
      ],
      "text/plain": [
       " 3                -1            2                              -1          /  \n",
       "l *(-4*P + 2*P1)*e     - -0.25*l *(--1.5*(-1)*P*l + 0.5*P1*l)*e      0.5*l*\\- \n",
       "-------------------- - ------------------------------------------- + ---------\n",
       "        48*i                                i                                 \n",
       "\n",
       "          2            2\\  -1\n",
       "- -1.0*P*l  + 0.25*P1*l /*e  \n",
       "-----------------------------\n",
       "         i                   "
      ]
     },
     "execution_count": 8,
     "metadata": {},
     "output_type": "execute_result"
    }
   ],
   "source": [
    "eq1 = diff(U, P1)"
   ]
  },
  {
   "cell_type": "markdown",
   "metadata": {},
   "source": [
    "Remember that P1 is equal P and substitue in the equation. So the displacement in point A isequal to"
   ]
  },
  {
   "cell_type": "code",
   "execution_count": 9,
   "metadata": {
    "collapsed": false,
    "run_control": {
     "marked": false
    }
   },
   "outputs": [
    {
     "data": {
      "text/latex": [
       "$$- \\frac{0.166666666666667 P l^{3}}{e i}$$"
      ],
      "text/plain": [
       "                      3  -1 \n",
       "-0.166666666666667*P*l *e   \n",
       "----------------------------\n",
       "             i              "
      ]
     },
     "execution_count": 9,
     "metadata": {},
     "output_type": "execute_result"
    }
   ],
   "source": [
    "eq1(P1 => P) # Substitute P1 with P"
   ]
  },
  {
   "cell_type": "markdown",
   "metadata": {},
   "source": [
    "# ex 3"
   ]
  },
  {
   "cell_type": "markdown",
   "metadata": {},
   "source": [
    "<img  src=\"FSN54BED8Y3IJ5PLQA0E7O2F74T6H4PX.png\"/>"
   ]
  },
  {
   "cell_type": "code",
   "execution_count": 10,
   "metadata": {
    "collapsed": false
   },
   "outputs": [
    {
     "data": {
      "text/latex": [
       "$$\\frac{P l^{3}}{8 e i}$$"
      ],
      "text/plain": [
       "   3  -1\n",
       "P*l *e  \n",
       "--------\n",
       "  8*i   "
      ]
     },
     "execution_count": 10,
     "metadata": {},
     "output_type": "execute_result"
    }
   ],
   "source": [
    "M1(x) = x*P\n",
    "M2(x) = x*P-(x-l/(2))*3/(2)*P\n",
    "U = integrate(M1(x)^2/(2*E*i),x,0,l/2) + integrate(M2(x)^2/(2*E*i), x, l/2, l*3/2)\n",
    "eq1 = diff(U, P)"
   ]
  },
  {
   "cell_type": "markdown",
   "metadata": {},
   "source": [
    "Displacement in point P is found"
   ]
  },
  {
   "cell_type": "markdown",
   "metadata": {},
   "source": [
    "# ex 4"
   ]
  },
  {
   "cell_type": "markdown",
   "metadata": {},
   "source": [
    "<img  src=\"DRCBNOHHJ6T77678EW4A497XSCQ9WG8K.png\"/>"
   ]
  },
  {
   "cell_type": "code",
   "execution_count": 11,
   "metadata": {
    "collapsed": false
   },
   "outputs": [
    {
     "data": {
      "text/plain": [
       "M1 (generic function with 1 method)"
      ]
     },
     "execution_count": 11,
     "metadata": {},
     "output_type": "execute_result"
    }
   ],
   "source": [
    "M1(x) = x*P+(q*x^(2))/(2)"
   ]
  },
  {
   "cell_type": "code",
   "execution_count": 12,
   "metadata": {
    "collapsed": false
   },
   "outputs": [
    {
     "data": {
      "text/latex": [
       "$$\\frac{P l^{3}}{3 e i} + \\frac{l^{4} q}{8 e i}$$"
      ],
      "text/plain": [
       "   3  -1    4    -1\n",
       "P*l *e     l *q*e  \n",
       "-------- + --------\n",
       "  3*i        8*i   "
      ]
     },
     "execution_count": 12,
     "metadata": {},
     "output_type": "execute_result"
    }
   ],
   "source": [
    "U = integrate(M1(x)^2/(2*E*i),x,0,l)\n",
    "eq1 = diff(U, P)"
   ]
  },
  {
   "cell_type": "markdown",
   "metadata": {},
   "source": []
  },
  {
   "cell_type": "markdown",
   "metadata": {},
   "source": [
    "Rember that P is equal 0, the displacement in x=0 is\n"
   ]
  },
  {
   "cell_type": "code",
   "execution_count": 13,
   "metadata": {
    "collapsed": false
   },
   "outputs": [
    {
     "data": {
      "text/latex": [
       "$$\\frac{l^{4} q}{8 e i}$$"
      ],
      "text/plain": [
       " 4    -1\n",
       "l *q*e  \n",
       "--------\n",
       "  8*i   "
      ]
     },
     "execution_count": 13,
     "metadata": {},
     "output_type": "execute_result"
    }
   ],
   "source": [
    "eq1(P=>0)"
   ]
  },
  {
   "cell_type": "markdown",
   "metadata": {},
   "source": [
    "# ex 5"
   ]
  },
  {
   "cell_type": "markdown",
   "metadata": {},
   "source": [
    "<img  src=\"EJUWL2Y1Y03R1XB96CRGA287EM3MT0MS.png\"/>"
   ]
  },
  {
   "cell_type": "code",
   "execution_count": 14,
   "metadata": {
    "collapsed": false
   },
   "outputs": [
    {
     "data": {
      "text/latex": [
       "$$\\frac{2 l^{3} q}{3 e i}$$"
      ],
      "text/plain": [
       "   3    -1\n",
       "2*l *q*e  \n",
       "----------\n",
       "   3*i    "
      ]
     },
     "execution_count": 14,
     "metadata": {},
     "output_type": "execute_result"
    }
   ],
   "source": [
    "@syms M\n",
    "M1(x) = M+(q*x^(2))/(2)\n",
    "M2(x) = M+(q*l^(2))/(2)\n",
    "U = integrate(M1(x)^2/(2*E*i),x,0,l) + integrate(M2(x)^2/(2*E*i),x,l,2l)\n",
    "eq1 = diff(U, M)\n",
    "# M is 0\n",
    "eq1(M=>0)"
   ]
  },
  {
   "cell_type": "markdown",
   "metadata": {},
   "source": [
    "# ex 6"
   ]
  },
  {
   "cell_type": "markdown",
   "metadata": {},
   "source": [
    "<img  src=\"DG6RJIMLG3M740AIQ1GK0LP0ORR03UP8.png\"/>"
   ]
  },
  {
   "cell_type": "code",
   "execution_count": 15,
   "metadata": {
    "collapsed": false
   },
   "outputs": [
    {
     "data": {
      "text/latex": [
       "\\begin{equation*}\\begin{cases}q_{1} & \\text{=>} &\\frac{0.547161002703171 Q_{1} l}{A E_{mod}}\\\\q_{2} & \\text{=>} &\\frac{0.0905677994593659 Q_{1} l}{A E_{mod}}\\\\\\end{cases}\\end{equation*}"
      ],
      "text/plain": [
       "Dict{SymPy.Sym,SymPy.Sym} with 2 entries:\n",
       "  q1 => 0.547161002703171*Q1*l/(A*E_mod)\n",
       "  q2 => 0.0905677994593659*Q1*l/(A*E_mod)"
      ]
     },
     "execution_count": 15,
     "metadata": {},
     "output_type": "execute_result"
    }
   ],
   "source": [
    "@syms q1,q2, A, Q1, E_mod\n",
    "θ = 30*((1/180)*pi)\n",
    "ɛ1(x) = q1/l\n",
    "ɛ2(x) = 2*q2/l\n",
    "ɛ3(x) = (cos((1/4)*pi)*q1+cos((1/4)*pi)*q2)/l\n",
    "U = integrate((E_mod*A*ɛ1(x)^2)/2,x,0,l) + integrate((E_mod*A*ɛ2(x)^2)/2,x,0,l/2) + integrate((E_mod*A*ɛ3(x)^2)/2,x,0,l) - Q1*q1*cos(θ)-Q1*q2*sin(θ)\n",
    "eq2 = diff(U,q2)\n",
    "eq1 = diff(U,q1)\n",
    "solve([eq1, eq2], [q1, q2])"
   ]
  },
  {
   "cell_type": "markdown",
   "metadata": {},
   "source": [
    "# ex 7"
   ]
  },
  {
   "cell_type": "markdown",
   "metadata": {},
   "source": [
    "<img  src=\"JNRABSJTDS89DTKDEW7S620LYNXB7OFH.png\"/>"
   ]
  },
  {
   "cell_type": "code",
   "execution_count": 16,
   "metadata": {
    "collapsed": false
   },
   "outputs": [
    {
     "data": {
      "text/latex": [
       "$$- \\frac{29 P}{108}$$"
      ],
      "text/plain": [
       "-29*P \n",
       "------\n",
       " 108  "
      ]
     },
     "execution_count": 16,
     "metadata": {},
     "output_type": "execute_result"
    }
   ],
   "source": [
    "@syms R1\n",
    "M1(x) = P1*x\n",
    "M2(x) = P1*l+R1*x\n",
    "M3(x) = P1*l+R1*x-2*P*(x-l)\n",
    "M4(x) = P1*(l-x)+R1*l*(3)/(2)-2*P*(l)/(2)\n",
    "U = integrate(M1(x)^2/(2*E*i),x,0,l) + integrate(M2(x)^2/(2*E*i),x,0,l) + \n",
    "    integrate(M3(x)^2/(2*E*i),x,l,3*l/2) + integrate(M4(x)^2/(2*E*i),x,0,l/2)\n",
    "eq1 = diff(U,P1)(P1 => P)\n",
    "eq2 = diff(U,R1)(P1 => P)\n",
    "r1 = solve(eq2, R1)[1]"
   ]
  },
  {
   "cell_type": "code",
   "execution_count": 17,
   "metadata": {
    "collapsed": false
   },
   "outputs": [
    {
     "data": {
      "text/latex": [
       "$$\\frac{67 P l^{3}}{64 e i}$$"
      ],
      "text/plain": [
       "      3  -1\n",
       "67*P*l *e  \n",
       "-----------\n",
       "    64*i   "
      ]
     },
     "execution_count": 17,
     "metadata": {},
     "output_type": "execute_result"
    }
   ],
   "source": [
    "δ_p = eq1(R1=>r1)"
   ]
  },
  {
   "cell_type": "markdown",
   "metadata": {},
   "source": [
    "# ex 8"
   ]
  },
  {
   "cell_type": "markdown",
   "metadata": {},
   "source": [
    "<img  src=\"GJJN6GVKG5SQLXI5M8IXA6RGAXCIUMRF.png\"/>"
   ]
  },
  {
   "cell_type": "code",
   "execution_count": 18,
   "metadata": {
    "collapsed": false
   },
   "outputs": [
    {
     "data": {
      "text/latex": [
       "\\begin{equation*}\\begin{cases}R_{1} & \\text{=>} &1.64285714285714 P\\\\R_{2} & \\text{=>} &- 0.857142857142857 P\\\\\\end{cases}\\end{equation*}"
      ],
      "text/plain": [
       "Dict{SymPy.Sym,SymPy.Sym} with 2 entries:\n",
       "  R1 => 1.64285714285714*P\n",
       "  R2 => -0.857142857142857*P"
      ]
     },
     "execution_count": 18,
     "metadata": {},
     "output_type": "execute_result"
    }
   ],
   "source": [
    "@syms Mb, R1,R2\n",
    "M1(x) = P*x\n",
    "M2(x) = P*x-R1*(x-l/(2))+Mb\n",
    "M3(x) = P*x-R1*(x-l/(2))-R2*(x-(3* l)/(2))+Mb\n",
    "U = integrate(M1(x)^2/(2*E*i),x,0,l/2) + integrate(M2(x)^2/(2*E*i),x,l/2,l*3/2) + \n",
    "    integrate(M3(x)^2/(2*E*i),x,3/2 * l,5*l/2)\n",
    "#Reaction forces is determined from eq1 and eq2\n",
    "eq1 = subs(diff(U,R1),Mb, 0)\n",
    "eq2 = subs(diff(U,R2),Mb, 0)\n",
    "res = solve([eq1, eq2], [R1, R2])"
   ]
  },
  {
   "cell_type": "code",
   "execution_count": 19,
   "metadata": {
    "collapsed": false
   },
   "outputs": [
    {
     "data": {
      "text/latex": [
       "$$\\frac{0.113095238095238 P l^{3}}{e i}$$"
      ],
      "text/plain": [
       "                     3  -1\n",
       "0.113095238095238*P*l *e  \n",
       "--------------------------\n",
       "            i             "
      ]
     },
     "execution_count": 19,
     "metadata": {},
     "output_type": "execute_result"
    }
   ],
   "source": [
    "eq3 = diff(U,P)(Mb => 0 ,res...)\n"
   ]
  },
  {
   "cell_type": "code",
   "execution_count": 20,
   "metadata": {
    "collapsed": false
   },
   "outputs": [
    {
     "data": {
      "text/latex": [
       "$$\\frac{0.142857142857143 P l^{2}}{e i}$$"
      ],
      "text/plain": [
       "                     2  -1\n",
       "0.142857142857143*P*l *e  \n",
       "--------------------------\n",
       "            i             "
      ]
     },
     "execution_count": 20,
     "metadata": {},
     "output_type": "execute_result"
    }
   ],
   "source": [
    "eq4 = diff(U,Mb)(Mb => 0 ,res...)"
   ]
  },
  {
   "cell_type": "code",
   "execution_count": null,
   "metadata": {
    "collapsed": true
   },
   "outputs": [],
   "source": []
  }
 ],
 "metadata": {
  "kernelspec": {
   "display_name": "Julia 0.4.1",
   "language": "julia",
   "name": "julia-0.4"
  },
  "language_info": {
   "file_extension": ".jl",
   "mimetype": "application/julia",
   "name": "julia",
   "version": "0.4.1"
  }
 },
 "nbformat": 4,
 "nbformat_minor": 0
}
